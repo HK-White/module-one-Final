{
 "cells": [
  {
   "cell_type": "markdown",
   "metadata": {},
   "source": [
    "if: Test whether a statement is True or False\n",
    "\n",
    "elif: (else if) checks for multiple conditions, extends an if statement\n",
    "\n",
    "else: Executes if neither if or and elif statements is not true "
   ]
  },
  {
   "cell_type": "code",
   "execution_count": null,
   "metadata": {},
   "outputs": [],
   "source": [
    "condition_one = 1\n",
    "condition_two = 2\n",
    "\n",
    "if condition_one == 1:\n",
    "    print(condition_one + \"is true.\")\n",
    "elif condition_two > 2:\n",
    "    print(condition_two + \"is greater than two\")\n",
    "else:\n",
    "    print(\"Neither is true\")\n"
   ]
  },
  {
   "cell_type": "markdown",
   "metadata": {},
   "source": [
    "== Equal to\n",
    "\n",
    "!= Not Equal To\n",
    "\n",
    "**>** great than\n",
    "\n",
    "< less than\n",
    "\n",
    "**>=** Greater than OR equal to\n",
    "\n",
    "<= less than OR equal to\n",
    "\n",
    "### Logical Operators\n",
    "and: True if BOTH conditions are true\n",
    "\n",
    "or: True if AT LEAST one condition ia true\n",
    "\n",
    "not: True if the condition is false"
   ]
  },
  {
   "cell_type": "code",
   "execution_count": null,
   "metadata": {},
   "outputs": [],
   "source": [
    "1 == 1 # True\n",
    "2 != 1 # True\n",
    "3 > 4 # False"
   ]
  },
  {
   "cell_type": "markdown",
   "metadata": {},
   "source": [
    "<mark style=\"background-color: lightblue;\">\n",
    "Nested Conditional Statements allow complex decision based logic by only testing the conditions of the nested statement if the first one is true \n",
    "<mark>"
   ]
  }
 ],
 "metadata": {
  "kernelspec": {
   "display_name": "Python 3",
   "language": "python",
   "name": "python3"
  },
  "language_info": {
   "name": "python",
   "version": "3.13.0"
  }
 },
 "nbformat": 4,
 "nbformat_minor": 2
}
