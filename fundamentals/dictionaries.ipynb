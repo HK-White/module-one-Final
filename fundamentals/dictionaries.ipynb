{
 "cells": [
  {
   "cell_type": "markdown",
   "metadata": {},
   "source": [
    "### Dictonaries:\n",
    "\n",
    "A ***dictionary*** is a key-value paired system \n",
    "Each ***Key*** can be used to access the defined value\n",
    "associated with it. They are PAIRS, one gives \n",
    "access to the others value"
   ]
  },
  {
   "cell_type": "code",
   "execution_count": 11,
   "metadata": {},
   "outputs": [],
   "source": [
    "alien_0 = {'color': 'green', 'points': 5}"
   ]
  },
  {
   "cell_type": "markdown",
   "metadata": {},
   "source": [
    "***How Does A Key->Pair Work***\n",
    "\n",
    "When a **key** is entered, python will return the value that is stored and \n",
    "associated to it. \n",
    "\n",
    "You can store as many values in a dictionary, but the simplest way is to do a single value dictionary such as the one below this."
   ]
  },
  {
   "cell_type": "code",
   "execution_count": 15,
   "metadata": {},
   "outputs": [],
   "source": [
    "aliean_1 = {'color': 'yellow'}\n",
    "\n",
    "if aliean_1 == 'yellow':\n",
    "    print(\"This dictionary is functionable\")"
   ]
  },
  {
   "cell_type": "markdown",
   "metadata": {},
   "source": [
    "***Every Key is connected to its value by a colon***, and multi key-values are\n",
    "seperated by a comma ,  within brace-brackets {} \n",
    "\n",
    "alien_0 = {'color': 'green'}\n",
    "This dictionary stores one piece of information about alien_0, namely\n",
    "the alien’s color. The string 'color' is a key in this dictionary, and its associated value is 'green'."
   ]
  }
 ],
 "metadata": {
  "kernelspec": {
   "display_name": "Python 3",
   "language": "python",
   "name": "python3"
  },
  "language_info": {
   "codemirror_mode": {
    "name": "ipython",
    "version": 3
   },
   "file_extension": ".py",
   "mimetype": "text/x-python",
   "name": "python",
   "nbconvert_exporter": "python",
   "pygments_lexer": "ipython3",
   "version": "3.13.0"
  }
 },
 "nbformat": 4,
 "nbformat_minor": 2
}
