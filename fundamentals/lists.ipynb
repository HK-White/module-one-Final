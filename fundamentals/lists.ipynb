{
 "cells": [
  {
   "cell_type": "markdown",
   "metadata": {},
   "source": [
    "Lists are a collection of items that can hold multiple values.\n",
    "    Lists a MUTEABLE, which says they can be changed after creation.\n",
    "\n"
   ]
  },
  {
   "cell_type": "markdown",
   "metadata": {},
   "source": [
    "### Modifying Lists\n",
    "- Add an Item: .append(item) adds to the end\n",
    "1 my_list.append(\"orange\")\n",
    "\n",
    "- Insert at a specific index: .insert(index, item)\n",
    "1 my_list.insert(1, \"blueberry\")\n",
    "\n",
    "- Remove: .remove(item) \n",
    "1 my_list.remove(\"blueberry\")\n",
    "\n",
    "- del my_list[0] # Deletes first item"
   ]
  },
  {
   "cell_type": "markdown",
   "metadata": {},
   "source": [
    "### List functions and Methods\n",
    "- len()\n",
    "    Returns the number of items\n",
    "        1. Len([1, 2, 3, 4])\n",
    "- min()/max()\n",
    "    Return the smallest/largest item\n",
    "        1. min([5, 3, 6]) -> 3\n",
    "        1. max([5, 3, 8]) -> 8\n",
    "\n",
    "\n",
    "**List Methods** \n",
    "- .sort() Sorts the list in place\n",
    "    - numbers = [4, 1, 7, 3]\n",
    "    -numbers.sort() # 1, 3, 4, 7\n",
    "\n",
    "- .reverse() Reverses  the items in the list\n",
    "    7, 4, 3, 1"
   ]
  },
  {
   "cell_type": "code",
   "execution_count": 2,
   "metadata": {},
   "outputs": [
    {
     "name": "stdout",
     "output_type": "stream",
     "text": [
      "['Blue', 'Orange', 'Yellow', 'red', 'Black']\n",
      "['Black', 'Blue', 'Orange', 'Yellow', 'red']\n"
     ]
    }
   ],
   "source": [
    "colors = [\"Blue\", \"Orange\", \"Yellow\", \"red\"]\n",
    "\n",
    "colors.append(\"Black\")\n",
    "print(colors)\n",
    "\n",
    "colors.sort()\n",
    "print(colors)"
   ]
  },
  {
   "cell_type": "markdown",
   "metadata": {},
   "source": [
    "***Combined Lists***\n",
    "By putting lists inside of a list, you can form a matrix like structure.\n",
    "\n"
   ]
  }
 ],
 "metadata": {
  "kernelspec": {
   "display_name": "Python 3",
   "language": "python",
   "name": "python3"
  },
  "language_info": {
   "codemirror_mode": {
    "name": "ipython",
    "version": 3
   },
   "file_extension": ".py",
   "mimetype": "text/x-python",
   "name": "python",
   "nbconvert_exporter": "python",
   "pygments_lexer": "ipython3",
   "version": "3.13.0"
  }
 },
 "nbformat": 4,
 "nbformat_minor": 2
}
